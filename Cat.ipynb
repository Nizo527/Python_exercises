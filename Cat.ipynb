{
  "nbformat": 4,
  "nbformat_minor": 0,
  "metadata": {
    "colab": {
      "provenance": [],
      "authorship_tag": "ABX9TyMV/D50RYcKc/QgB6pHWCE9",
      "include_colab_link": true
    },
    "kernelspec": {
      "name": "python3",
      "display_name": "Python 3"
    },
    "language_info": {
      "name": "python"
    }
  },
  "cells": [
    {
      "cell_type": "markdown",
      "metadata": {
        "id": "view-in-github",
        "colab_type": "text"
      },
      "source": [
        "<a href=\"https://colab.research.google.com/github/Nizo527/Python_exercises/blob/main/Cat.ipynb\" target=\"_parent\"><img src=\"https://colab.research.google.com/assets/colab-badge.svg\" alt=\"Open In Colab\"/></a>"
      ]
    },
    {
      "cell_type": "code",
      "execution_count": 2,
      "metadata": {
        "colab": {
          "base_uri": "https://localhost:8080/"
        },
        "id": "Z7Yf5T2h4lHy",
        "outputId": "fef0ff87-1496-4ff2-c1eb-847ddc0fedd2"
      },
      "outputs": [
        {
          "output_type": "stream",
          "name": "stdout",
          "text": [
            "Cati say: meow meow\n",
            "Cati's weight in human is 20kg\n",
            "Cati is sleeping placidly\n",
            "Yeyu say: meow meow\n",
            "Yeyu's weight in human is 36kg\n",
            "Yeyu is sleeping placidly\n"
          ]
        }
      ],
      "source": [
        "#Class\n",
        "class Cat:\n",
        "\n",
        "#Attribute\n",
        "      def __init__(self,name,color,age,weight):\n",
        "          self.name = name\n",
        "          self.color = color\n",
        "          self.age = age\n",
        "          self.weight = weight\n",
        "\n",
        "#Method\n",
        "      def meow(self):\n",
        "           print(f\"{self.name} say: meow meow\")\n",
        "\n",
        "      def calculate_human_weight(self):\n",
        "           self.calculate_weight = self.weight * 2\n",
        "           print(f\"{self.name}'s weight in human is {self .calculate_weight}kg\")\n",
        "\n",
        "      def sleep(self):\n",
        "            print(f\"{self.name} is sleeping placidly\")\n",
        "\n",
        "#Object\n",
        "cat_one = Cat(\"Cati\",\"yellow\",2,10)\n",
        "cat_two = Cat(\"Yeyu\",\"blue\",4,18)\n",
        "\n",
        "#Call to objetc\n",
        "cat_one.meow()\n",
        "cat_one.calculate_human_weight()\n",
        "cat_one.sleep()\n",
        "\n",
        "cat_two.meow()\n",
        "cat_two.calculate_human_weight()\n",
        "cat_two.sleep()\n",
        "\n",
        "\n"
      ]
    }
  ]
}