{
  "nbformat": 4,
  "nbformat_minor": 0,
  "metadata": {
    "colab": {
      "provenance": [],
      "authorship_tag": "ABX9TyNRFBK3jHyhlOKIOJCoWKS3",
      "include_colab_link": true
    },
    "kernelspec": {
      "name": "python3",
      "display_name": "Python 3"
    },
    "language_info": {
      "name": "python"
    }
  },
  "cells": [
    {
      "cell_type": "markdown",
      "metadata": {
        "id": "view-in-github",
        "colab_type": "text"
      },
      "source": [
        "<a href=\"https://colab.research.google.com/github/Nizo527/Python_exercises/blob/main/Car.ipynb\" target=\"_parent\"><img src=\"https://colab.research.google.com/assets/colab-badge.svg\" alt=\"Open In Colab\"/></a>"
      ]
    },
    {
      "cell_type": "code",
      "execution_count": 8,
      "metadata": {
        "id": "-oFAAqFA1_ap",
        "colab": {
          "base_uri": "https://localhost:8080/"
        },
        "outputId": "f8cab1d5-e4b9-4c70-c69e-1580740d4648"
      },
      "outputs": [
        {
          "output_type": "stream",
          "name": "stdout",
          "text": [
            "Brand: Renault\n",
            "Model: kwid\n",
            "Year: 2022\n",
            "Mileage: 41000\n",
            "It's a used car.\n",
            "Brand: Mazda\n",
            "Model: 3\n",
            "Year: 2023\n",
            "Mileage: 11000\n",
            "It's a new car.\n",
            "Brand: Ford\n",
            "Model: Fiesta\n",
            "Year: 2020\n",
            "Mileage: 50000\n",
            "It's a used car.\n"
          ]
        }
      ],
      "source": [
        "#Class\n",
        "class Car:\n",
        "\n",
        "#Attributes\n",
        "    def __init__(self,brand,model,year,mileage):\n",
        "          self.brand = brand\n",
        "          self.model = model\n",
        "          self.year = year\n",
        "          self.mileage = mileage\n",
        "\n",
        "#Methods\n",
        "    def show_info(self):\n",
        "        print(\"Brand:\",self.brand)\n",
        "        print(\"Model:\",self.model)\n",
        "        print(\"Year:\",self.year)\n",
        "        print(\"Mileage:\",self.mileage)\n",
        "\n",
        "    def evaluate_usage(self):\n",
        "        if self.mileage < 20000:\n",
        "            print(\"It's a new car.\")\n",
        "\n",
        "        elif 20000 <= self.mileage <= 100000:\n",
        "            print(\"It's a used car.\")\n",
        "\n",
        "        else:\n",
        "            print(\"It's a High-mileage car.\")\n",
        "\n",
        "#Objects\n",
        "car_1 = Car(\"Renault\",\"kwid\",2022,41000)\n",
        "car_2 = Car(\"Mazda\",\"3\",2023,11000)\n",
        "car_3 = Car(\"Ford\",\"Fiesta\",2020,50000)\n",
        "\n",
        "#Call to methods\n",
        "car_1.show_info()\n",
        "car_1.evaluate_usage()\n",
        "\n",
        "car_2.show_info()\n",
        "car_2.evaluate_usage()\n",
        "\n",
        "car_3.show_info()\n",
        "car_3.evaluate_usage()\n"
      ]
    }
  ]
}