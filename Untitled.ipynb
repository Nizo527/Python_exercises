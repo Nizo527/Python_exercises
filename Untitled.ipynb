{
  "nbformat": 4,
  "nbformat_minor": 0,
  "metadata": {
    "colab": {
      "provenance": [],
      "authorship_tag": "ABX9TyPmAdnMCUTMtu0Vb24FUamM",
      "include_colab_link": true
    },
    "kernelspec": {
      "name": "python3",
      "display_name": "Python 3"
    },
    "language_info": {
      "name": "python"
    }
  },
  "cells": [
    {
      "cell_type": "markdown",
      "metadata": {
        "id": "view-in-github",
        "colab_type": "text"
      },
      "source": [
        "<a href=\"https://colab.research.google.com/github/Nizo527/Python_exercises/blob/main/Untitled.ipynb\" target=\"_parent\"><img src=\"https://colab.research.google.com/assets/colab-badge.svg\" alt=\"Open In Colab\"/></a>"
      ]
    },
    {
      "cell_type": "code",
      "execution_count": 4,
      "metadata": {
        "id": "SFL0uo4kEE55",
        "colab": {
          "base_uri": "https://localhost:8080/"
        },
        "outputId": "2e74691c-cadf-4c89-ccbb-eca3ed5691d9",
        "collapsed": true
      },
      "outputs": [
        {
          "output_type": "stream",
          "name": "stdout",
          "text": [
            "Yiyo say: guao guao\n",
            "Yiyo's age in human years is 21\n",
            "Rexi say: guao guao\n",
            "Rexi's age in human years is 14\n"
          ]
        }
      ],
      "source": [
        "#Class\n",
        "class Dog:\n",
        "\n",
        "#Attribute\n",
        "    def __init__(self,name,breed,age):\n",
        "        self.name = name\n",
        "        self.breed = breed\n",
        "        self.age = age\n",
        "\n",
        "#Method\n",
        "    def bark(self):\n",
        "        print(f\"{self.name} say: guao guao\")\n",
        "\n",
        "    def calculate_human_age(self):\n",
        "        self.human_age = self.age * 7\n",
        "        print(f\"{self.name}'s age in human years is {self.human_age}\")\n",
        "\n",
        "\n",
        "\n",
        "#Object\n",
        "my_dog = Dog(\"Yiyo\",\"Labrador\",3)\n",
        "thiagos_dog = Dog(\"Rexi\",\"Pitbull\",2)\n",
        "\n",
        "#Call to object\n",
        "my_dog.bark()\n",
        "my_dog.calculate_human_age()\n",
        "thiagos_dog.bark()\n",
        "thiagos_dog.calculate_human_age()\n"
      ]
    },
    {
      "cell_type": "code",
      "source": [],
      "metadata": {
        "id": "uYUx4dyA7Ym6"
      },
      "execution_count": null,
      "outputs": []
    }
  ]
}