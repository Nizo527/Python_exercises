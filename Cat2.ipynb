{
  "nbformat": 4,
  "nbformat_minor": 0,
  "metadata": {
    "colab": {
      "provenance": [],
      "authorship_tag": "ABX9TyMwLKkClO7RQPiWCGA1L4Xs",
      "include_colab_link": true
    },
    "kernelspec": {
      "name": "python3",
      "display_name": "Python 3"
    },
    "language_info": {
      "name": "python"
    }
  },
  "cells": [
    {
      "cell_type": "markdown",
      "metadata": {
        "id": "view-in-github",
        "colab_type": "text"
      },
      "source": [
        "<a href=\"https://colab.research.google.com/github/Nizo527/Python_exercises/blob/main/Cat2.ipynb\" target=\"_parent\"><img src=\"https://colab.research.google.com/assets/colab-badge.svg\" alt=\"Open In Colab\"/></a>"
      ]
    },
    {
      "cell_type": "code",
      "execution_count": 6,
      "metadata": {
        "colab": {
          "base_uri": "https://localhost:8080/"
        },
        "id": "0w20XzXVjEsR",
        "outputId": "c3081a76-1ff5-4444-8468-5e09cbe89298"
      },
      "outputs": [
        {
          "output_type": "stream",
          "name": "stdout",
          "text": [
            "Lulo say: meow meow\n",
            "Lulo's weight in human is 20kg\n",
            "Lulo is sleeping placidly\n",
            "Lulo is young\n",
            "Lulo call Rexi Hi Rexi\n",
            "Rexi say: meow meow\n",
            "Rexi's weight in human is 40kg\n",
            "Rexi is sleeping placidly\n",
            "Rexi is old\n",
            "Rexi call Lulo Hi Lulo\n"
          ]
        }
      ],
      "source": [
        "#Class\n",
        "class Cat:\n",
        "\n",
        "#Attributes\n",
        "    def __init__(self,name,color,age,weight,breed):\n",
        "          self.name = name\n",
        "          self.color = color\n",
        "          self.age = age\n",
        "          self.weight = weight\n",
        "          self.breed = breed\n",
        "\n",
        "#Methods\n",
        "    def meow(self):\n",
        "          print(f\"{self.name} say: meow meow\")\n",
        "\n",
        "    def calculate_human_weight(self):\n",
        "          calculate_weight = self.weight * 2\n",
        "          print(f\"{self.name}'s weight in human is {calculate_weight}kg\")\n",
        "\n",
        "    def sleep(self):\n",
        "          print(f\"{self.name} is sleeping placidly\")\n",
        "\n",
        "    def evaluate_age(self):\n",
        "          if self.age < 3:\n",
        "             print(f\"{self.name} is young\")\n",
        "\n",
        "          else:\n",
        "             print(f\"{self.name} is old\")\n",
        "\n",
        "#Definiendo un argumento en el metodo\n",
        "    def call(self,another_cat):\n",
        "          print(f\"{self.name} call {another_cat} Hi {another_cat}\")\n",
        "\n",
        "#Objects\n",
        "\n",
        "cat_1 = Cat(\"Lulo\",\"Blue\",2,10,\"Egypto\")\n",
        "cat_2 = Cat(\"Rexi\",\"Green\",4,20,\"Tuhfd\")\n",
        "\n",
        "#Call to methods\n",
        "\n",
        "cat_1.meow()\n",
        "cat_1.calculate_human_weight()\n",
        "cat_1.sleep()\n",
        "cat_1.evaluate_age()\n",
        "cat_1.call(\"Rexi\")\n",
        "\n",
        "cat_2.meow()\n",
        "cat_2.calculate_human_weight()\n",
        "cat_2.sleep()\n",
        "cat_2.evaluate_age()\n",
        "cat_2.call(\"Lulo\")\n",
        "\n",
        "\n"
      ]
    }
  ]
}